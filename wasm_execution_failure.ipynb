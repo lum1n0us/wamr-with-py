{
 "cells": [
  {
   "cell_type": "markdown",
   "metadata": {},
   "source": [
    "This document is used to analysis all failed cases executed by previous [functional test](./capability.ipynb)."
   ]
  },
  {
   "cell_type": "code",
   "execution_count": 55,
   "metadata": {},
   "outputs": [],
   "source": [
    "from collections import Counter\n",
    "from enum import IntEnum\n",
    "from pathlib import Path\n",
    "import pickle\n",
    "from pprint import pprint\n",
    "import shutil\n",
    "import subprocess\n",
    "from tqdm import tqdm\n",
    "from typing import Dict, List, Optional"
   ]
  },
  {
   "cell_type": "markdown",
   "metadata": {},
   "source": [
    "# Preparation"
   ]
  },
  {
   "cell_type": "code",
   "execution_count": 56,
   "metadata": {},
   "outputs": [],
   "source": [
    "IWASM = Path(shutil.which(\"iwasm\"))\n",
    "ADDR2LINE = Path(shutil.which(\"addr2line\"))\n",
    "\n",
    "PY2WASM = Path(shutil.which(\"py2wasm\"))\n",
    "\n",
    "PYTHON_COOKBOOK = Path.cwd().joinpath(\"./cookbook/src\")\n",
    "assert PYTHON_COOKBOOK.exists(), \"use `git submodule update` to fetch cookbook\"\n",
    "\n",
    "WASI_SDK_HOME = Path(\"/opt/wasi-sdk-22.0\")\n",
    "\n",
    "WABT_HOME = Path(\"/opt/wabt-1.0.35\")\n"
   ]
  },
  {
   "cell_type": "code",
   "execution_count": 57,
   "metadata": {},
   "outputs": [],
   "source": [
    "# sync with [functional test](./capability.ipynb)\n",
    "class CaseErrorCode(IntEnum):\n",
    "    OK = 0\n",
    "    COMPILATION_FAILURE = 1\n",
    "    WASM_EXECUTION_FAILURE = 2\n",
    "    PY_EXECUTION_FAILURE = 3\n",
    "    DIFFERENT_RESULT = 4\n",
    "    BYPASS = 5\n",
    "    WASM_EXECUTION_TIMEOUT = 6\n",
    "    PY_EXECUTION_TIMEOUT = 7\n",
    "\n",
    "    def __str__(self):\n",
    "        return f'{self.name}'\n",
    "\n",
    "class CaseResult:\n",
    "    def __init__(self, error_code: CaseErrorCode, msg: str):\n",
    "        self.error_code = error_code\n",
    "        self.msg = msg\n",
    "\n",
    "    def __repr__(self):\n",
    "        return f\"{self.error_code}. \\\"{self.msg.strip()}\\\"\"\n"
   ]
  },
  {
   "cell_type": "code",
   "execution_count": 58,
   "metadata": {},
   "outputs": [],
   "source": [
    "def restore_result(out_file: Path) -> Dict[str, CaseResult]:\n",
    "    with out_file.open(\"rb\") as f:\n",
    "        return pickle.load(f)\n",
    "\n",
    "def filter_wasm_execution_failure(reulsts: Dict[str, CaseResult]) -> Dict[str, CaseResult]:\n",
    "    return {k: v for k, v in reulsts.items() if v.error_code == CaseErrorCode.WASM_EXECUTION_FAILURE}\n",
    "\n",
    "def filter_result_error_msg(result: CaseResult, keyword: str) -> bool:\n",
    "    for line in result.msg.split('\\n'):\n",
    "        # print(f\"--> {line}\")\n",
    "        if line.startswith(keyword):\n",
    "            return True\n",
    "    \n",
    "    return False\n",
    "\n",
    "def case_name_to_wasm_file(chapter_n: str, case_name: str) -> Path:\n",
    "    \"\"\"\n",
    "    if chapter_n is 0, and case_name is logging_test_output_to_a_file.test.\n",
    "    the output should be\n",
    "    0/logging_test_output_to_a_file/test.wasm\n",
    "    \"\"\"\n",
    "    return PYTHON_COOKBOOK.joinpath(f\"{chapter_n}/{case_name.replace('.', '/')}.wasm\")"
   ]
  },
  {
   "cell_type": "markdown",
   "metadata": {},
   "source": [
    "# Analysis"
   ]
  },
  {
   "cell_type": "code",
   "execution_count": 59,
   "metadata": {},
   "outputs": [],
   "source": [
    "# {chapter number : {case_name, CaseResult}}\n",
    "chapter_x_result = {}\n",
    "for i in range(1, 15):\n",
    "    chapter_x_result[i] = restore_result(Path(f\"chapter_{i}_result.pkl\"))"
   ]
  },
  {
   "cell_type": "markdown",
   "metadata": {},
   "source": [
    "## `WASM_EXECUTION_FAILURE`\n",
    "\n",
    "It seems all failure can be separated into two kinds according to their error message\n",
    "- Exception\n",
    "- Traceback"
   ]
  },
  {
   "cell_type": "code",
   "execution_count": 60,
   "metadata": {},
   "outputs": [],
   "source": [
    "# {chapter number : {case_name: CaseResult}}\n",
    "chapter_x_wasm_exec_failed = {}\n",
    "for i in range(1, 15):\n",
    "    chapter_x_wasm_exec_failed[i] = filter_wasm_execution_failure(chapter_x_result[i])"
   ]
  },
  {
   "cell_type": "code",
   "execution_count": 61,
   "metadata": {},
   "outputs": [
    {
     "name": "stdout",
     "output_type": "stream",
     "text": [
      "Counter({'Exception': 57, 'Traceback': 11})\n"
     ]
    }
   ],
   "source": [
    "# {case_name: CaseResult}\n",
    "chapter_x_wamr_exception = {}\n",
    "chapter_x_wasm_python_exception = {}\n",
    "\n",
    "counter = []\n",
    "for chapter_n, chapter_i_wasm_exec_failed in chapter_x_wasm_exec_failed.items():\n",
    "    for case_name, result in chapter_i_wasm_exec_failed.items():\n",
    "        wasm_file = case_name_to_wasm_file(chapter_n, case_name)\n",
    "        assert wasm_file.exists()\n",
    "\n",
    "        if filter_result_error_msg(result, \"Exception: \"):\n",
    "            chapter_x_wamr_exception[case_name] = result\n",
    "            counter.append(\"Exception\")\n",
    "\n",
    "        elif filter_result_error_msg(result, \"Traceback \"):\n",
    "            chapter_x_wasm_python_exception[case_name] =result\n",
    "            counter.append(\"Traceback\")\n",
    "\n",
    "        else:\n",
    "            print(f\"chapter {i} {case_name}: {result}\")\n",
    "            assert False, f\"unexpected failure message.  chapter {i} {case_name}: {result}\"\n",
    "\n",
    "counter = Counter(counter)\n",
    "print(counter)"
   ]
  },
  {
   "cell_type": "markdown",
   "metadata": {},
   "source": [
    "### Exception(throw by wamr)\n",
    "\n",
    "List all exception messages thrown by wamr. It turns out that all exceptions are thrown by WAMR can be splited into two kinds:\n",
    "- *indirect call type mismatch*\n",
    "- *out of bounds memory access*"
   ]
  },
  {
   "cell_type": "code",
   "execution_count": 62,
   "metadata": {},
   "outputs": [
    {
     "name": "stdout",
     "output_type": "stream",
     "text": [
      "Counter({'Exception: indirect call type mismatch': 55,\n",
      "         'Exception: out of bounds memory access': 2})\n"
     ]
    }
   ],
   "source": [
    "counter = []\n",
    "for case_name, result in chapter_x_wamr_exception.items():\n",
    "    for line in result.msg.split(\"\\n\"):\n",
    "        if line.startswith(\"Exception: \"):\n",
    "            counter.append(line)\n",
    "            break\n",
    "\n",
    "pprint(Counter(counter))"
   ]
  },
  {
   "cell_type": "markdown",
   "metadata": {},
   "source": [
    "Use `addr2line` and a debug building of `iwasm` to find out the exact line of (runtime) code that throws the exception.\n",
    "\n",
    "> ⚠️ iwasm should be compiled with `-DCMAKE_BUILD_TYPE=Debug -DWAMR_BUILD_DUMP_CALL_STACK=1 -DWAMR_BUILD_FAST_INTERP=0`"
   ]
  },
  {
   "cell_type": "code",
   "execution_count": 63,
   "metadata": {},
   "outputs": [],
   "source": [
    "# traverse all cases in `chapter_x_wamr_exception`\n",
    "# run the case with iwasm and export the callstack. `iwasm xxx.wasm > xxx.callstack`\n",
    "# use addr2line to analyze the callstack. \n",
    "#   `addr2line --wasi-sdk {wasi_sdk_home} --wabt {wabt_home} --wasm-file xxx.wasm xxx.callstack`\n",
    "# and save the result to `xxx.detail.callstack`\n",
    "\n",
    "def execute_iwasm(wasm_file: Path, out_file: Path) -> subprocess.CompletedProcess:\n",
    "    with open(out_file, \"wt\") as f:\n",
    "        return subprocess.run(\n",
    "            [\n",
    "                IWASM, \n",
    "                \"--dir=.\",\n",
    "                \"--stack-size=134217728\",\n",
    "                wasm_file\n",
    "            ],\n",
    "            stdout=f,\n",
    "            stderr=subprocess.PIPE,\n",
    "            check=False,\n",
    "        )\n",
    "\n",
    "def addr2line(wasm_file: Path, callstack_file: Path, out_file: Path) -> subprocess.CompletedProcess:\n",
    "    with open(out_file, \"wt\") as f:\n",
    "        return subprocess.run(\n",
    "            [\n",
    "                ADDR2LINE, \n",
    "                \"--wasi-sdk\", WASI_SDK_HOME, \n",
    "                \"--wabt\", WABT_HOME, \n",
    "                \"--wasm-file\", wasm_file, \n",
    "                callstack_file\n",
    "            ],\n",
    "            stdout=f,\n",
    "            stderr=subprocess.PIPE,\n",
    "            check=True,\n",
    "        )\n",
    "\n",
    "def output_top_N_callstack_detail(callstack_detail_file: Path, N: int) -> List[str]:\n",
    "    top_n_bt = []\n",
    "    with open(callstack_detail_file) as f:\n",
    "        for line in f.readlines():\n",
    "            if \"at \" in line:\n",
    "                continue\n",
    "            \n",
    "            top_n_bt.append(line.strip())\n",
    "            N -= 1\n",
    "\n",
    "            if N == 0:\n",
    "                break\n",
    "    \n",
    "    return top_n_bt\n",
    "\n",
    "def analyze_callstack(wasm_file: Path, topN: int) -> List[str]:\n",
    "    callstack_file = wasm_file.with_suffix(\".ctk\")\n",
    "    callstack_detail_file = wasm_file.with_suffix(\".dtl.ctk\")\n",
    "\n",
    "    execute_iwasm(wasm_file, callstack_file)\n",
    "    addr2line(wasm_file, callstack_file, callstack_detail_file)\n",
    "    top_n_bt = output_top_N_callstack_detail(callstack_detail_file, topN)\n",
    "\n",
    "    return top_n_bt\n",
    "\n",
    "def compare_callstack(ctk_1: List[str], ctk_2: List[str]) -> bool:\n",
    "    if len(ctk_1) != len(ctk_2):\n",
    "        return False\n",
    "    \n",
    "    return all([c1 == c2 for c1, c2 in zip(ctk_1, ctk_2)])"
   ]
  },
  {
   "cell_type": "markdown",
   "metadata": {},
   "source": [
    "#### indirect call type mismatch\n"
   ]
  },
  {
   "cell_type": "code",
   "execution_count": 70,
   "metadata": {},
   "outputs": [
    {
     "name": "stderr",
     "output_type": "stream",
     "text": [
      "100%|██████████| 14/14 [18:09<00:00, 77.80s/it] "
     ]
    },
    {
     "name": "stdout",
     "output_type": "stream",
     "text": [
      "✨ There are 16 different callstacks.\n",
      "[['1: getset_get',\n",
      "  '2: _PyObject_GenericGetAttrWithDict',\n",
      "  '3: PyObject_GenericGetAttr',\n",
      "  '4: impl_ply$lex$$$function__37_get_rules$$$function__1_lambda',\n",
      "  '5: Nuitka_CallFunctionVectorcall'],\n",
      " ['1: getset_get',\n",
      "  '2: _PyObject_GenericGetAttrWithDict',\n",
      "  '3: PyObject_GenericGetAttr',\n",
      "  '4: PyObject_GetAttr',\n",
      "  '5: ../../Objects/funcobject.c'],\n",
      " ['1: getset_get',\n",
      "  '2: _PyObject_GenericGetAttrWithDict',\n",
      "  '3: _PyObject_LookupAttr',\n",
      "  '4: ../../Objects/descrobject.c',\n",
      "  '5: CALL_FUNCTION_WITH_SINGLE_ARG'],\n",
      " ['1: getset_get',\n",
      "  '2: _PyObject_GenericGetAttrWithDict',\n",
      "  '3: PyObject_GenericGetAttr',\n",
      "  '4: impl___main__$$$function__1_lazyproperty',\n",
      "  '5: CALL_FUNCTION_WITH_SINGLE_ARG'],\n",
      " ['1: getset_get',\n",
      "  '2: _PyObject_GenericGetAttrWithDict',\n",
      "  '3: PyObject_GenericGetAttr',\n",
      "  '4: PyObject_GetAttr',\n",
      "  '5: builtin_getattr'],\n",
      " ['1: getset_get',\n",
      "  '2: _PyObject_GenericGetAttrWithDict',\n",
      "  '3: PyObject_GenericGetAttr',\n",
      "  '4: impl___main__$$$function__1_logged',\n",
      "  '5: Nuitka_CallFunctionPosArgs'],\n",
      " ['1: getset_get',\n",
      "  '2: _PyObject_GenericGetAttrWithDict',\n",
      "  '3: PyObject_GenericGetAttr',\n",
      "  '4: impl___main__$$$function__1_logged$$$function__1_decorate',\n",
      "  '5: CALL_FUNCTION_WITH_SINGLE_ARG'],\n",
      " ['1: getset_get',\n",
      "  '2: _PyObject_GenericGetAttrWithDict',\n",
      "  '3: PyObject_GenericGetAttr',\n",
      "  '4: modulecode___main__',\n",
      "  '5: _EXECUTE_EMBEDDED_MODULE'],\n",
      " ['1: getset_get',\n",
      "  '2: _PyObject_GenericGetAttrWithDict',\n",
      "  '3: PyObject_GenericGetAttr',\n",
      "  '4: PyObject_GetAttr',\n",
      "  '5: _PyEval_EvalFrameDefault'],\n",
      " ['1: getset_get',\n",
      "  '2: _PyObject_GenericGetAttrWithDict',\n",
      "  '3: PyObject_GenericGetAttr',\n",
      "  '4: impl___main__$$$function__2_logged$$$function__1_decorate',\n",
      "  '5: CALL_FUNCTION_WITH_SINGLE_ARG'],\n",
      " ['1: getset_get',\n",
      "  '2: _PyObject_GenericGetAttrWithDict',\n",
      "  '3: _PyObject_LookupAttr',\n",
      "  '4: ../../Objects/descrobject.c',\n",
      "  '5: type_call'],\n",
      " ['1: getset_get',\n",
      "  '2: _PyObject_GenericGetAttrWithDict',\n",
      "  '3: PyObject_GenericGetAttr',\n",
      "  '4: impl___main__$$$function__1___init__',\n",
      "  '5: Nuitka_CallMethodFunctionPosArgs'],\n",
      " ['1: getset_set',\n",
      "  '2: _PyObject_GenericSetAttrWithDict',\n",
      "  '3: PyObject_GenericSetAttr',\n",
      "  '4: PyObject_SetAttr',\n",
      "  '5: ../../Python/bltinmodule.c'],\n",
      " ['1: PyUnicode_FromFormatV',\n",
      "  '2: ../../Python/errors.c',\n",
      "  '3: _PyArg_BadArgument',\n",
      "  '4: unicode_replace',\n",
      "  '5: method_vectorcall_FASTCALL'],\n",
      " ['1: PyNumber_InPlaceAdd',\n",
      "  '2: MAKE_RELATIVE_PATH',\n",
      "  '3: _EXECUTE_EMBEDDED_MODULE',\n",
      "  '4: _nuitka_loader_exec_module',\n",
      "  '5: cfunction_call'],\n",
      " ['1: getset_get',\n",
      "  '2: _PyObject_GenericGetAttrWithDict',\n",
      "  '3: PyObject_GenericGetAttr',\n",
      "  '4: PyObject_GetAttr',\n",
      "  '5: Nuitka_Method_tp_getattro']]\n"
     ]
    },
    {
     "name": "stderr",
     "output_type": "stream",
     "text": [
      "\n"
     ]
    }
   ],
   "source": [
    "variant_call_stack = []\n",
    "\n",
    "for chapter_n, chapter_i_wasm_exec_failed in tqdm(chapter_x_wasm_exec_failed.items()):\n",
    "    for case_name, result in chapter_i_wasm_exec_failed.items():\n",
    "        if not filter_result_error_msg(result, \"Exception: \"):\n",
    "            continue\n",
    "\n",
    "        wasm_file = case_name_to_wasm_file(chapter_n, case_name)\n",
    "        assert wasm_file.exists()\n",
    "\n",
    "        wasm_file = case_name_to_wasm_file(chapter_n, case_name)\n",
    "        assert wasm_file.exists(), f\"{wasm_file} doesn't exist\"\n",
    "\n",
    "        top_n_bt = analyze_callstack(wasm_file, 5)\n",
    "        for item in variant_call_stack:\n",
    "            if compare_callstack(item, top_n_bt):\n",
    "                break\n",
    "        else:\n",
    "            variant_call_stack.append(top_n_bt)\n",
    "\n",
    "print(f\"✨ There are {len(variant_call_stack)} different callstacks.\")\n",
    "pprint(variant_call_stack)\n",
    "\n",
    "with open(\"variant_call_stack.pkl\", \"wb\") as f:\n",
    "    pickle.dump(variant_call_stack, f)"
   ]
  },
  {
   "cell_type": "markdown",
   "metadata": {},
   "source": [
    "It seems all(*16*) exceptions are in 4 kinds:\n",
    "\n",
    "- `getset_get()` <- `_PyObject_GenericGetAttrWithDict()` <- `PyObject_GenericGetAttr()` <- `PyObject_GetAttr()`.\n",
    "- `getset_set()`\n",
    "- `PyUnicode_FromFormatV()`\n",
    "- `PyNumber_InPlaceAdd()`"
   ]
  },
  {
   "cell_type": "markdown",
   "metadata": {},
   "source": [
    "##### callstack A.\n",
    "\n",
    "Refer to [this one](./cookbook/src/9/defining_context_managers_the_easy_way/example2.dtl.ctk)\n"
   ]
  },
  {
   "cell_type": "code",
   "execution_count": 71,
   "metadata": {},
   "outputs": [
    {
     "name": "stdout",
     "output_type": "stream",
     "text": [
      "1: getset_get\n",
      "\tat /Users/syrusakbary/Development/cpython-3.11/builddir/wasi/../../Objects/descrobject.c:202:16\n",
      "2: _PyObject_GenericGetAttrWithDict\n",
      "\tat /Users/syrusakbary/Development/cpython-3.11/builddir/wasi/../../Objects/object.c:1278:19\n",
      "3: PyObject_GenericGetAttr\n",
      "\tat /Users/syrusakbary/Development/cpython-3.11/builddir/wasi/../../Objects/object.c:1368:5\n",
      "4: PyObject_GetAttr\n",
      "\tat /Users/syrusakbary/Development/cpython-3.11/builddir/wasi/../../Objects/object.c:916:18\n",
      "5: builtin_getattr\n",
      "\tat /Users/syrusakbary/Development/cpython-3.11/builddir/wasi/../../Python/bltinmodule.c:1134:18\n",
      "6: _PyEval_EvalFrameDefault\n",
      "\tat /Users/syrusakbary/Development/cpython-3.11/builddir/wasi/../../Python/ceval.c:5050:29\n",
      "7: ../../Python/ceval.c\n",
      "\tat unknown:73:16\n",
      "8: _PyFunction_Vectorcall\n",
      "\tat /Users/syrusakbary/Development/cpython-3.11/builddir/wasi/../../Objects/call.c:398:1\n",
      "9: _PyVectorcall_Call\n",
      "\tat /Users/syrusakbary/Development/cpython-3.11/builddir/wasi/../../Objects/call.c:257:24\n"
     ]
    }
   ],
   "source": [
    "! head -n 18 ./cookbook/src/9/defining_context_managers_the_easy_way/example2.dtl.ctk"
   ]
  },
  {
   "cell_type": "markdown",
   "metadata": {},
   "source": [
    "Observation:\n",
    "\n",
    "- `_PyObject_GenericGetAttrWithDict()`. https://github.com/python/cpython/blob/3.11/Objects/object.c#L1243\n",
    "- `res = f(descr, obj, (PyObject *)Py_TYPE(obj));`. https://github.com/python/cpython/blob/3.11/Objects/object.c#L1278\n",
    "- `getset_get()`. https://github.com/python/cpython/blob/3.11/Objects/descrobject.c#L193\n",
    "- `return descr_get_trampoline_call(descr->d_getset->get, obj, descr->d_getset->closure);`. https://github.com/python/cpython/blob/3.11/Objects/descrobject.c#L202\n",
    "- ``` c\n",
    "  // see pycore_object.h\n",
    "  #if defined(__EMSCRIPTEN__) && defined(PY_CALL_TRAMPOLINE)\n",
    "  #include <emscripten.h>\n",
    "  EM_JS(int, descr_set_trampoline_call, (setter set, PyObject *obj, PyObject *value, void *closure), {\n",
    "      return wasmTable.get(set)(obj, value, closure);\n",
    "  });\n",
    "  \n",
    "  EM_JS(PyObject*, descr_get_trampoline_call, (getter get, PyObject *obj, void *closure), {\n",
    "      return wasmTable.get(get)(obj, closure);\n",
    "  });\n",
    "  #else\n",
    "  #define descr_set_trampoline_call(set, obj, value, closure) \\\n",
    "      (set)((obj), (value), (closure))\n",
    "  \n",
    "  #define descr_get_trampoline_call(get, obj, closure) \\\n",
    "      (get)((obj), (closure))    // <|-- HERE!\n",
    "  \n",
    "  #endif // __EMSCRIPTEN__ && PY_CALL_TRAMPOLINE\n",
    "  ```\n",
    "- `descr->d_getset->get(obj, descr->d_getset->closure)`\n",
    "- ***indirect call type mismatch***. `func(i32,i32)->i32`(in bytecode) != `func(i32)->i32`(on stack). "
   ]
  }
 ],
 "metadata": {
  "kernelspec": {
   "display_name": "Python 3",
   "language": "python",
   "name": "python3"
  },
  "language_info": {
   "codemirror_mode": {
    "name": "ipython",
    "version": 3
   },
   "file_extension": ".py",
   "mimetype": "text/x-python",
   "name": "python",
   "nbconvert_exporter": "python",
   "pygments_lexer": "ipython3",
   "version": "3.11.9"
  }
 },
 "nbformat": 4,
 "nbformat_minor": 2
}
