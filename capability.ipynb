{
 "cells": [
  {
   "cell_type": "code",
   "execution_count": 3,
   "metadata": {},
   "outputs": [],
   "source": [
    "from pathlib import Path\n",
    "import shutil\n",
    "import subprocess"
   ]
  },
  {
   "cell_type": "code",
   "execution_count": 4,
   "metadata": {},
   "outputs": [],
   "source": [
    "IWASM = Path(shutil.which(\"iwasm\"))\n",
    "\n",
    "PY2WASM = Path(shutil.which(\"py2wasm\"))\n",
    "\n",
    "PYTHON_COOKBOOK_EXAMPLES_HOME = Path.cwd().joinpath(\"./cookbook/src\")\n",
    "assert PYTHON_COOKBOOK_EXAMPLES_HOME.exists(), \"use `git submodule update` to fetch cookbook\"\n"
   ]
  },
  {
   "cell_type": "code",
   "execution_count": 27,
   "metadata": {},
   "outputs": [],
   "source": [
    "def compile_py_2_wasm(py2wasm_bin: Path, py_file: Path) -> Path:\n",
    "    \"\"\"\n",
    "    print both stdout and stderr when running the command and meeting an error\n",
    "    \"\"\"\n",
    "    wasm_file = py_file.with_suffix(\".wasm\")\n",
    "    cmd = f\"{py2wasm_bin} {py_file} -o {wasm_file}\"\n",
    "    try:\n",
    "        subprocess.run(cmd, cwd=Path.cwd(), capture_output=True, check=True, shell=True, universal_newlines=True, text=True)\n",
    "    except subprocess.CalledProcessError as e:\n",
    "        print(e.stderr)\n",
    "        raise e\n",
    "\n",
    "    return wasm_file\n",
    "\n",
    "def execute_py(py_file: Path) -> subprocess.CompletedProcess:\n",
    "    cmd = f\"python {py_file}\"\n",
    "    return subprocess.run(cmd, cwd=Path.cwd(), capture_output=True, check=True, shell=True, universal_newlines=True, text=True)\n",
    "\n",
    "def execute_wasm(iwasm_bin: Path, wasm_file: Path) -> subprocess.CompletedProcess:\n",
    "    cmd = f\"{iwasm_bin} {wasm_file}\"\n",
    "    try:\n",
    "        p = subprocess.run(cmd, cwd=Path.cwd(), capture_output=True, check=True, shell=True, universal_newlines=True, text=True)\n",
    "    except subprocess.CalledProcessError as e:\n",
    "        print(e.stdout)\n",
    "        print(f\"{'-' * 50}\")\n",
    "        print(e.stderr)\n",
    "        raise e\n",
    "\n",
    "    return p\n",
    "\n",
    "def compare_result(expected: str, actual: str) -> bool:\n",
    "    if expected != actual:\n",
    "        print(f\"{'<' * 50}\")\n",
    "        print(f\"{expected}\")\n",
    "        print(f\"{'-' * 50}\")\n",
    "        print(f\"{actual}\")\n",
    "        print(f\"{'>' * 50}\")\n",
    "        return False\n",
    "\n",
    "    return True\n"
   ]
  },
  {
   "cell_type": "code",
   "execution_count": 28,
   "metadata": {},
   "outputs": [
    {
     "data": {
      "text/plain": [
       "True"
      ]
     },
     "execution_count": 28,
     "metadata": {},
     "output_type": "execute_result"
    }
   ],
   "source": [
    "py_file = Path(\"./example.py\")\n",
    "wasm_file = compile_py_2_wasm(PY2WASM, py_file)\n",
    "\n",
    "p = execute_wasm(IWASM, wasm_file)\n",
    "output_from_wasm = p.stdout\n",
    "\n",
    "p = execute_py(py_file)\n",
    "output_from_py = p.stdout\n",
    "\n",
    "compare_result(output_from_py, output_from_wasm)"
   ]
  }
 ],
 "metadata": {
  "kernelspec": {
   "display_name": "Python 3",
   "language": "python",
   "name": "python3"
  },
  "language_info": {
   "codemirror_mode": {
    "name": "ipython",
    "version": 3
   },
   "file_extension": ".py",
   "mimetype": "text/x-python",
   "name": "python",
   "nbconvert_exporter": "python",
   "pygments_lexer": "ipython3",
   "version": "3.11.9"
  }
 },
 "nbformat": 4,
 "nbformat_minor": 2
}
