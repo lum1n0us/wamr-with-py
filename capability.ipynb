{
 "cells": [
  {
   "cell_type": "code",
   "execution_count": 108,
   "metadata": {},
   "outputs": [],
   "source": [
    "from collections import Counter\n",
    "from enum import IntEnum\n",
    "from pathlib import Path\n",
    "import shutil\n",
    "import subprocess\n",
    "from tqdm import tqdm\n",
    "from typing import Dict, List, Optional"
   ]
  },
  {
   "cell_type": "code",
   "execution_count": 63,
   "metadata": {},
   "outputs": [],
   "source": [
    "IWASM = Path(shutil.which(\"iwasm\"))\n",
    "\n",
    "PY2WASM = Path(shutil.which(\"py2wasm\"))\n",
    "\n",
    "PYTHON_COOKBOOK = Path.cwd().joinpath(\"./cookbook/src\")\n",
    "assert PYTHON_COOKBOOK.exists(), \"use `git submodule update` to fetch cookbook\"\n"
   ]
  },
  {
   "cell_type": "code",
   "execution_count": 87,
   "metadata": {},
   "outputs": [],
   "source": [
    "class CaseResult(IntEnum):\n",
    "    OK = 0\n",
    "    COMPILATION_FAILURE = 1\n",
    "    EXECUTION_FAILURE = 2\n",
    "    DIFFERENT_RESULT = 3"
   ]
  },
  {
   "cell_type": "markdown",
   "metadata": {},
   "source": [
    "For each case, we are going to compile the python script to a WebAssembly core module, and compare both execution results of python and WebAssembly."
   ]
  },
  {
   "cell_type": "code",
   "execution_count": 116,
   "metadata": {},
   "outputs": [],
   "source": [
    "def compile_py_2_wasm(py2wasm_bin: Path, py_file: Path, out_dir: Optional[Path]) -> Path:\n",
    "    \"\"\"\n",
    "    print both stdout and stderr when running the command and meeting an error\n",
    "    \"\"\"\n",
    "    if not out_dir is None:\n",
    "        out_dir.mkdir(parents=True, exist_ok=True)\n",
    "        wasm_file = out_dir.joinpath(py_file.stem + \".wasm\")\n",
    "    else:\n",
    "        wasm_file = py_file.with_suffix(\".wasm\")\n",
    "    \n",
    "    cmd = f\"{py2wasm_bin} {py_file} -o {wasm_file}\"\n",
    "    try:\n",
    "        subprocess.run(cmd, cwd=Path.cwd(), capture_output=True, check=True, shell=True, universal_newlines=True, text=True)\n",
    "    except subprocess.CalledProcessError as e:\n",
    "        print(e.stderr)\n",
    "        raise e\n",
    "\n",
    "    return wasm_file\n",
    "\n",
    "def execute_py(py_file: Path) -> subprocess.CompletedProcess:\n",
    "    cmd = f\"python {py_file}\"\n",
    "    return subprocess.run(cmd, cwd=Path.cwd(), capture_output=True, check=True, shell=True, universal_newlines=True, text=True)\n",
    "\n",
    "def execute_wasm(iwasm_bin: Path, wasm_file: Path) -> subprocess.CompletedProcess:\n",
    "    cmd = f\"{iwasm_bin} --dir=. {wasm_file}\"\n",
    "    try:\n",
    "        p = subprocess.run(cmd, cwd=Path.cwd(), capture_output=True, check=True, shell=True, universal_newlines=True, text=True)\n",
    "    except subprocess.CalledProcessError as e:\n",
    "        print(e.stdout)\n",
    "        print(f\"{'-' * 50}\")\n",
    "        print(e.stderr)\n",
    "        raise e\n",
    "\n",
    "    return p\n",
    "\n",
    "def compare_result(expected: str, actual: str) -> bool:\n",
    "    \"\"\"\n",
    "    Compare the expected and actual result, print them out if they are different\n",
    "    \"\"\"\n",
    "    if expected != actual:\n",
    "        print(f\"{'<' * 50}\")\n",
    "        print(f\"{expected}\")\n",
    "        print(f\"{'-' * 50}\")\n",
    "        print(f\"{actual}\")\n",
    "        print(f\"{'>' * 50}\")\n",
    "        return False\n",
    "\n",
    "    return True\n",
    "\n",
    "def execute_case(py_file: Path, out_dir: Optional[Path]) -> CaseResult:\n",
    "    try:\n",
    "        wasm_file = compile_py_2_wasm(PY2WASM, py_file, out_dir)\n",
    "    except subprocess.CalledProcessError:\n",
    "        return CaseResult.COMPILATION_FAILURE\n",
    "\n",
    "    try:\n",
    "        p = execute_wasm(IWASM, wasm_file)\n",
    "    except subprocess.CalledProcessError as e:\n",
    "        return CaseResult.EXECUTION_FAILURE\n",
    "\n",
    "    output_from_wasm = p.stdout\n",
    "\n",
    "    p = execute_py(py_file)\n",
    "    output_from_py = p.stdout\n",
    "\n",
    "    if not compare_result(output_from_py, output_from_wasm):\n",
    "        return CaseResult.DIFFERENT_RESULT\n",
    "    \n",
    "    return CaseResult.OK\n",
    "\n",
    "def visit_case(py_file: Path, out_dir: Optional[Path]) -> CaseResult:\n",
    "    print(f\"py_file={py_file}, out_dir={out_dir}\")\n",
    "    return CaseResult.OK\n",
    "\n",
    "def execute_test(chapter: Path, bypass: List[str]) -> Dict[str, CaseResult]:\n",
    "    # list all sub-directories in chapter\n",
    "    chapter_tests = [x for x in chapter.iterdir() if x.is_dir()]\n",
    "\n",
    "    # walk\n",
    "    ret = {}\n",
    "    for test_dir in tqdm(chapter_tests):\n",
    "        if test_dir.name in bypass:\n",
    "            print(f\"🎈 bypass {test_dir}\")\n",
    "            continue\n",
    "\n",
    "        # assume all .py under the test_dir are test cases\n",
    "        py_files = [x for x in test_dir.iterdir() if x.suffix == \".py\"]\n",
    "\n",
    "        for py_file in py_files:\n",
    "            result = execute_case(py_file, None)\n",
    "            # result = visit_case(py_file, None)\n",
    "            case_name = f\"{test_dir.name}.{py_file.stem}\"\n",
    "            ret[case_name] = result\n",
    "    \n",
    "    return ret"
   ]
  },
  {
   "cell_type": "code",
   "execution_count": 91,
   "metadata": {},
   "outputs": [
    {
     "name": "stdout",
     "output_type": "stream",
     "text": [
      "skipping\n"
     ]
    }
   ],
   "source": [
    "%%script echo skipping\n",
    "\n",
    "test_py_file = PYTHON_COOKBOOK.joinpath(\"1/calculating_with_dictionaries/example.py\")\n",
    "out_dir =  Path.cwd().joinpath(\"out\")\n",
    "execute_case(test_py_file, out_dir)\n"
   ]
  },
  {
   "cell_type": "code",
   "execution_count": 90,
   "metadata": {},
   "outputs": [
    {
     "name": "stdout",
     "output_type": "stream",
     "text": [
      "skipping\n"
     ]
    }
   ],
   "source": [
    "%%script echo skipping\n",
    "\n",
    "test_py_file = PYTHON_COOKBOOK.joinpath(\"1/transforming_and_reducing_data_at_the_same_time/example.py\")\n",
    "out_dir =  Path.cwd().joinpath(\"out\")\n",
    "execute_case(test_py_file, out_dir)"
   ]
  },
  {
   "cell_type": "markdown",
   "metadata": {},
   "source": [
    "Walk through Chapter 1, collect all case files(*.py), compile them to WebAssembly core modules, execute them in both .py and .wasm, and compare the results"
   ]
  },
  {
   "cell_type": "code",
   "execution_count": 117,
   "metadata": {},
   "outputs": [
    {
     "name": "stderr",
     "output_type": "stream",
     "text": [
      " 75%|███████▌  | 12/16 [03:26<01:06, 16.53s/it]"
     ]
    },
    {
     "name": "stdout",
     "output_type": "stream",
     "text": [
      "🎈 bypass /workspaces/wamr-with-py/cookbook/src/1/transforming_and_reducing_data_at_the_same_time\n"
     ]
    },
    {
     "name": "stderr",
     "output_type": "stream",
     "text": [
      " 88%|████████▊ | 14/16 [03:43<00:26, 13.01s/it]"
     ]
    },
    {
     "name": "stdout",
     "output_type": "stream",
     "text": [
      "\n",
      "--------------------------------------------------\n",
      "Traceback (most recent call last):\n",
      "  File \"./example.py\", line 12, in <module>\n",
      "FileNotFoundError: [Errno 44] No such file or directory: 'somefile.txt'\n",
      "\n"
     ]
    },
    {
     "name": "stderr",
     "output_type": "stream",
     "text": [
      "100%|██████████| 16/16 [04:19<00:00, 16.22s/it]"
     ]
    },
    {
     "name": "stdout",
     "output_type": "stream",
     "text": [
      "{'calculating_with_dictionaries.example.py': <CaseResult.OK: 0>, 'sort_a_list_of_dictionaries_by_a_common_key.example.py': <CaseResult.OK: 0>, 'removing_duplicates_from_a_sequence_while_maintaining_order.example2.py': <CaseResult.OK: 0>, 'removing_duplicates_from_a_sequence_while_maintaining_order.example.py': <CaseResult.OK: 0>, 'implementing_a_priority_queue.example.py': <CaseResult.OK: 0>, 'grouping-records-together-based-on-a-field.grouping.py': <CaseResult.OK: 0>, 'filtering_list_elements.example.py': <CaseResult.OK: 0>, 'working_with_multiple_mappings_as_a_single_mapping.example.py': <CaseResult.OK: 0>, 'finding_out_what_two_dictionaries_have_in_common.example.py': <CaseResult.OK: 0>, 'finding_the_largest_or_smallest_n_items.example.py': <CaseResult.OK: 0>, 'mapping_names_to_sequence_elements.example1.py': <CaseResult.OK: 0>, 'unpack_a_fixed_number_of_elements_from_iterables_of_arbitrary_length.example.py': <CaseResult.OK: 0>, 'extracting_a_subset_of_a_dictionary.example.py': <CaseResult.OK: 0>, 'keeping_the_last_n_items.example.py': <CaseResult.EXECUTION_FAILURE: 2>, 'sort_objects_without_native_comparison_support.example.py': <CaseResult.OK: 0>, 'determine_the_top_n_items_occurring_in_a_list.example.py': <CaseResult.OK: 0>}\n"
     ]
    },
    {
     "name": "stderr",
     "output_type": "stream",
     "text": [
      "\n"
     ]
    },
    {
     "data": {
      "text/plain": [
       "Counter({<CaseResult.OK: 0>: 15, <CaseResult.EXECUTION_FAILURE: 2>: 1})"
      ]
     },
     "execution_count": 117,
     "metadata": {},
     "output_type": "execute_result"
    }
   ],
   "source": [
    "chapter_1 = PYTHON_COOKBOOK.joinpath(\"1\")\n",
    "# bypass temporay list\n",
    "bypass_tests = [\n",
    "    \"transforming_and_reducing_data_at_the_same_time\", \n",
    "    \"sort_a_list_of_dictionaries_by_a_common_key\"\n",
    "]\n",
    "\n",
    "test_result = execute_test(chapter_1, bypass_tests)\n",
    "Counter(test_result.values())\n",
    "\n",
    "# print failures\n",
    "for k,v in test_result.items():\n",
    "    if v != CaseResult.OK:\n",
    "        print(k)"
   ]
  }
 ],
 "metadata": {
  "kernelspec": {
   "display_name": "Python 3",
   "language": "python",
   "name": "python3"
  },
  "language_info": {
   "codemirror_mode": {
    "name": "ipython",
    "version": 3
   },
   "file_extension": ".py",
   "mimetype": "text/x-python",
   "name": "python",
   "nbconvert_exporter": "python",
   "pygments_lexer": "ipython3",
   "version": "3.11.9"
  }
 },
 "nbformat": 4,
 "nbformat_minor": 2
}
