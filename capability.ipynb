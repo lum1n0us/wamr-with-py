{
 "cells": [
  {
   "cell_type": "code",
   "execution_count": 1,
   "metadata": {},
   "outputs": [],
   "source": [
    "from collections import Counter\n",
    "from enum import IntEnum\n",
    "from pathlib import Path\n",
    "import shutil\n",
    "import subprocess\n",
    "from tqdm import tqdm\n",
    "from typing import Dict, List, Optional"
   ]
  },
  {
   "cell_type": "markdown",
   "metadata": {},
   "source": [
    "Use examples in [python cookbook, 3rd Edition](https://www.amazon.com/Python-Cookbook-Third-David-Beazley/dp/1449340377) as test cases to verify the correctness of the implementation."
   ]
  },
  {
   "cell_type": "code",
   "execution_count": 2,
   "metadata": {},
   "outputs": [],
   "source": [
    "IWASM = Path(shutil.which(\"iwasm\"))\n",
    "\n",
    "PY2WASM = Path(shutil.which(\"py2wasm\"))\n",
    "\n",
    "PYTHON_COOKBOOK = Path.cwd().joinpath(\"./cookbook/src\")\n",
    "assert PYTHON_COOKBOOK.exists(), \"use `git submodule update` to fetch cookbook\"\n"
   ]
  },
  {
   "cell_type": "code",
   "execution_count": 3,
   "metadata": {},
   "outputs": [],
   "source": [
    "class CaseErrorCode(IntEnum):\n",
    "    OK = 0\n",
    "    COMPILATION_FAILURE = 1\n",
    "    EXECUTION_FAILURE = 2\n",
    "    DIFFERENT_RESULT = 3\n",
    "    BYPASS = 4\n",
    "\n",
    "    def __str__(self):\n",
    "        return f'{self.name}'\n",
    "\n",
    "class CaseResult:\n",
    "    def __init__(self, error_code: CaseErrorCode, msg: str):\n",
    "        self.error_code = error_code\n",
    "        self.msg = msg\n",
    "\n",
    "    def __repr__(self):\n",
    "        return f\"{self.error_code}\\n{self.msg}\"\n"
   ]
  },
  {
   "cell_type": "markdown",
   "metadata": {},
   "source": [
    "For each case, we are going to:\n",
    "\n",
    "1. compile the python script to a WebAssembly core module \n",
    "2. run the python script \n",
    "3. run the WebAssembly core module\n",
    "4. compare both execution results of step 2 and step 3"
   ]
  },
  {
   "cell_type": "code",
   "execution_count": 20,
   "metadata": {},
   "outputs": [],
   "source": [
    "def compile_py_2_wasm(py2wasm_bin: Path, py_file: Path, out_dir: Optional[Path]) -> Path:\n",
    "    if not out_dir is None:\n",
    "        out_dir.mkdir(parents=True, exist_ok=True)\n",
    "        wasm_file = out_dir.joinpath(py_file.stem + \".wasm\")\n",
    "    else:\n",
    "        wasm_file = py_file.with_suffix(\".wasm\")\n",
    "    \n",
    "    cmd = f\"{py2wasm_bin} {py_file} -o {wasm_file}\"\n",
    "    subprocess.run(cmd, cwd=Path.cwd(), capture_output=True, check=True, shell=True, universal_newlines=True, text=True)\n",
    "    return wasm_file\n",
    "\n",
    "def execute_py(py_file: Path) -> subprocess.CompletedProcess:\n",
    "    \"\"\"\n",
    "    Since relative pathes are used in examples.\n",
    "    \"\"\"\n",
    "    cwd = py_file.parent\n",
    "    cmd = f\"python {py_file}\"\n",
    "    return subprocess.run(cmd, cwd=cwd, capture_output=True, check=True, shell=True, universal_newlines=True, text=True)\n",
    "\n",
    "def execute_wasm(iwasm_bin: Path, wasm_file: Path) -> subprocess.CompletedProcess:\n",
    "    \"\"\"\n",
    "    To avoid the WASI pre-opens problem, run under the same directory with the wasm file\n",
    "    \"\"\"\n",
    "    cwd = wasm_file.parent\n",
    "    cmd = f\"{iwasm_bin} --dir=. {wasm_file.relative_to(cwd)}\"\n",
    "    return subprocess.run(cmd, cwd=cwd, capture_output=True, check=True, shell=True, universal_newlines=True, text=True)\n",
    "    \n",
    "\n",
    "def compare_result(expected: str, actual: str) -> bool:\n",
    "    return expected == actual\n",
    "\n",
    "##################################################\n",
    "def execute_case(py_file: Path, out_dir: Optional[Path]) -> CaseResult:\n",
    "    try:\n",
    "        wasm_file = compile_py_2_wasm(PY2WASM, py_file, out_dir)\n",
    "    except subprocess.CalledProcessError:\n",
    "        return CaseResult(CaseErrorCode.COMPILATION_FAILURE, \"\")\n",
    "\n",
    "    try:\n",
    "        p = execute_wasm(IWASM, wasm_file)\n",
    "    except subprocess.CalledProcessError as e:\n",
    "        return CaseResult(CaseErrorCode.EXECUTION_FAILURE, e.stderr if e.stderr else e.stdout)\n",
    "\n",
    "    output_from_wasm = p.stdout\n",
    "\n",
    "    p = execute_py(py_file)\n",
    "    output_from_py = p.stdout\n",
    "\n",
    "    if not compare_result(output_from_py, output_from_wasm):\n",
    "        return CaseResult(CaseErrorCode.DIFFERENT_RESULT, f\"{'>' * 40}\\n{output_from_py}{'-' * 20} V.S. {'-' * 20}\\n{output_from_wasm}{'<' * 40}\")\n",
    "    \n",
    "    return CaseResult(CaseErrorCode.OK, \"\")\n",
    "\n",
    "def visit_case(py_file: Path, out_dir: Optional[Path]) -> CaseResult:\n",
    "    print(f\"py_file={py_file}, out_dir={out_dir}\")\n",
    "    return CaseResult(CaseErrorCode.OK, \"\")\n",
    "\n",
    "def execute_test(chapter: Path, bypass: List[str]) -> Dict[str, CaseResult]:\n",
    "    # list all sub-directories in chapter\n",
    "    chapter_tests = [x for x in chapter.iterdir() if x.is_dir()]\n",
    "\n",
    "    # walk\n",
    "    ret = {}\n",
    "    for test_dir in tqdm(chapter_tests):\n",
    "        if test_dir.name in bypass:\n",
    "            ret[case_name] = CaseResult(CaseErrorCode.BYPASS, \"\")\n",
    "            continue\n",
    "\n",
    "        # assume all .py under the test_dir are test cases\n",
    "        py_files = [x for x in test_dir.iterdir() if x.suffix == \".py\"]\n",
    "\n",
    "        for py_file in py_files:\n",
    "            result = execute_case(py_file, None)\n",
    "            # result = visit_case(py_file, None)\n",
    "            case_name = f\"{test_dir.name}.{py_file.stem}\"\n",
    "            ret[case_name] = result\n",
    "    \n",
    "    return ret\n",
    "\n",
    "def summarize_result(results: Dict[str, CaseResult]) -> None:\n",
    "    counter = Counter([x.error_code for x in results.values()])\n",
    "    print()\n",
    "    print(counter)\n",
    "    print()\n",
    "\n",
    "    # print failures\n",
    "    for k,v in results.items():\n",
    "        if v.error_code != CaseErrorCode.OK:\n",
    "            print(f\"{k} FAILED:\\n{v}\")\n",
    "            print()"
   ]
  },
  {
   "cell_type": "markdown",
   "metadata": {},
   "source": [
    "## Chapter 1. Data Structures And Algorithms\n",
    "\n",
    "`DIFFERENT_RESULT` in *finding_out_what_two_dictionaries_have_in_common* isn't a bug 😄. It is caused by the different order of the keys in the dictionary.\n",
    "\n",
    "`EXECUTION_FAILURE` in *transforming_and_reducing_data_at_the_same_time* needs more investigation 🔎. My first guess is about preopen."
   ]
  },
  {
   "cell_type": "code",
   "execution_count": 116,
   "metadata": {},
   "outputs": [
    {
     "name": "stderr",
     "output_type": "stream",
     "text": [
      "100%|██████████| 16/16 [04:38<00:00, 17.40s/it]"
     ]
    },
    {
     "name": "stdout",
     "output_type": "stream",
     "text": [
      "Counter({<CaseErrorCode.OK: 0>: 15, <CaseErrorCode.DIFFERENT_RESULT: 3>: 1, <CaseErrorCode.EXECUTION_FAILURE: 2>: 1})\n",
      "\n",
      "finding_out_what_two_dictionaries_have_in_common.example FAILED:\n",
      "DIFFERENT_RESULT\n",
      ">>>>>>>>>>>>>>>>>>>>>>>>>>>>>>>>>>>>>>>>\n",
      "Common keys: {'y', 'x'}\n",
      "Keys in a not in b: {'z'}\n",
      "(key,value) pairs in common: {('y', 2)}\n",
      "-------------------- V.S. --------------------\n",
      "Common keys: {'x', 'y'}\n",
      "Keys in a not in b: {'z'}\n",
      "(key,value) pairs in common: {('y', 2)}\n",
      "<<<<<<<<<<<<<<<<<<<<<<<<<<<<<<<<<<<<<<<<\n",
      "\n",
      "transforming_and_reducing_data_at_the_same_time.example FAILED:\n",
      "EXECUTION_FAILURE\n",
      "Traceback (most recent call last):\n",
      "  File \"./example.py\", line 6, in <module>\n",
      "    files = os.listdir(os.path.expanduser('~'))\n",
      "    \n",
      "FileNotFoundError: [Errno 44] No such file or directory: '~'\n",
      "\n",
      "\n"
     ]
    },
    {
     "name": "stderr",
     "output_type": "stream",
     "text": [
      "\n"
     ]
    }
   ],
   "source": [
    "chapter_1 = PYTHON_COOKBOOK.joinpath(\"1\")\n",
    "chapter_1_result = execute_test(chapter_1, [])\n",
    "summarize_result(chapter_1_result)"
   ]
  },
  {
   "cell_type": "markdown",
   "metadata": {},
   "source": [
    "### Investigation of *transforming_and_reducing_data_at_the_same_time*"
   ]
  },
  {
   "cell_type": "code",
   "execution_count": 120,
   "metadata": {},
   "outputs": [
    {
     "name": "stdout",
     "output_type": "stream",
     "text": [
      "Traceback (most recent call last):\n",
      "  File \"./example.py\", line 6, in <module>\n",
      "    files = os.listdir(os.path.expanduser('~'))\n",
      "    \n",
      "FileNotFoundError: [Errno 44] No such file or directory: '~'\n"
     ]
    }
   ],
   "source": [
    "! iwasm --dir=. --dir=/home/vscode ./cookbook/src/1/transforming_and_reducing_data_at_the_same_time/example.wasm"
   ]
  },
  {
   "cell_type": "code",
   "execution_count": 121,
   "metadata": {},
   "outputs": [
    {
     "name": "stdout",
     "output_type": "stream",
     "text": [
      "error while pre-opening directory ~: 2\n",
      "\n"
     ]
    }
   ],
   "source": [
    "! iwasm --dir=. --dir=~ ./cookbook/src/1/transforming_and_reducing_data_at_the_same_time/example.wasm"
   ]
  },
  {
   "cell_type": "markdown",
   "metadata": {},
   "source": [
    "## Chapter 2. Strings And Text\n",
    "\n",
    "There are `try...except...` in some cases. Need to deep dive into the wasm implementation."
   ]
  },
  {
   "cell_type": "code",
   "execution_count": 21,
   "metadata": {},
   "outputs": [
    {
     "name": "stderr",
     "output_type": "stream",
     "text": [
      "100%|██████████| 13/13 [04:36<00:00, 21.29s/it]"
     ]
    },
    {
     "name": "stdout",
     "output_type": "stream",
     "text": [
      "\n",
      "Counter({<CaseErrorCode.OK: 0>: 14, <CaseErrorCode.EXECUTION_FAILURE: 2>: 1})\n",
      "\n",
      "writing_a_simple_recursive_descent_parser.plyexample FAILED:\n",
      "EXECUTION_FAILURE\n",
      "Exception: indirect call type mismatch\n",
      "\n",
      "\n"
     ]
    },
    {
     "name": "stderr",
     "output_type": "stream",
     "text": [
      "\n"
     ]
    }
   ],
   "source": [
    "chapter_2 = PYTHON_COOKBOOK.joinpath(\"2\")\n",
    "chapter_2_result = execute_test(chapter_2, [])\n",
    "summarize_result(chapter_2_result)"
   ]
  }
 ],
 "metadata": {
  "kernelspec": {
   "display_name": "Python 3",
   "language": "python",
   "name": "python3"
  },
  "language_info": {
   "codemirror_mode": {
    "name": "ipython",
    "version": 3
   },
   "file_extension": ".py",
   "mimetype": "text/x-python",
   "name": "python",
   "nbconvert_exporter": "python",
   "pygments_lexer": "ipython3",
   "version": "3.11.9"
  }
 },
 "nbformat": 4,
 "nbformat_minor": 2
}
